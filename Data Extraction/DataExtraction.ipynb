{
 "cells": [
  {
   "cell_type": "markdown",
   "metadata": {},
   "source": [
    "# Data Extraction\n",
    "Correlate labels from customer feedback with the unlabeled clickstream dataset"
   ]
  },
  {
   "cell_type": "code",
   "execution_count": null,
   "metadata": {},
   "outputs": [],
   "source": [
    "# Import cell, add all imports here\n",
    "\n",
    "import pandas as pd\n",
    "import numpy as np\n",
    "import boto3\n",
    "import os"
   ]
  },
  {
   "cell_type": "code",
   "execution_count": null,
   "metadata": {},
   "outputs": [],
   "source": [
    "# Import customer feedback data from S3\n",
    "\n",
    "s3client = boto3.client('s3')\n",
    "response = s3client.get_object(Bucket = 'click-metric-analytics', Key = 'feedback.csv')\n",
    "feedbackdf = pd.read_csv(response['Body'])"
   ]
  },
  {
   "cell_type": "code",
   "execution_count": null,
   "metadata": {},
   "outputs": [],
   "source": [
    "# Import clickstream data from S3\n",
    "\n",
    "response = s3client.get_object(Bucket = 'click-metric-analytics', Key = 'unlabeled.csv')\n",
    "metricsdf = pd.read_csv(response['Body'])"
   ]
  },
  {
   "cell_type": "code",
   "execution_count": null,
   "metadata": {},
   "outputs": [],
   "source": [
    "# Add an output column (frustrated) and translate customer rating to frustrated / not frustrated labels\n",
    "# Customer rating: neutral -> not frustrated\n",
    "# Customer rating: positive -> not frustrated\n",
    "# Customer rating: negative -> frustrated\n",
    "\n",
    "feedbackdf.loc[feedbackdf['frustrated'].str.match('neutral\\n', na=False), 'frustrated'] = False\n",
    "feedbackdf.loc[feedbackdf['frustrated'].str.match('positive\\n', na=False), 'frustrated'] = False\n",
    "feedbackdf.loc[feedbackdf['frustrated'].str.match('negative\\n', na=False), 'frustrated'] = True"
   ]
  },
  {
   "cell_type": "code",
   "execution_count": null,
   "metadata": {},
   "outputs": [],
   "source": [
    "# Get a list of all unique account IDs in the dataframe\n",
    "\n",
    "accounts = feedbackdf.account_id.unique().tolist()\n",
    "for i in range(len(accounts)):\n",
    "    accounts[i] = str(accounts[i]).zfill(12) # ensure all accounts IDs are of the same length "
   ]
  },
  {
   "cell_type": "code",
   "execution_count": null,
   "metadata": {},
   "outputs": [],
   "source": [
    "# Output the list of accounts to a .txt file \n",
    " \n",
    "file = open(os.path.join(\"/tmp\", \"accounts.txt\"), \"w\") \n",
    "file.write('\\', \\''.join(accounts))\n",
    "file.close()"
   ]
  },
  {
   "cell_type": "code",
   "execution_count": null,
   "metadata": {},
   "outputs": [],
   "source": [
    "# Initialize the list of session_ids and corresponding labels\n",
    "session_ids = []\n",
    "labels = []\n",
    "\n",
    "# Iterate through every row in the sentiment data frame\n",
    "for index, row in df.iterrows():\n",
    "    # Get the account ID, timestamp, and label\n",
    "    account_id = row.account_id\n",
    "    timestamp = str(pd.to_datetime(row.timestamp))[:10]\n",
    "    label = row.frustrated\n",
    "    \n",
    "    # Correlate the account id and timestamp with the session from the click metrics dataframe\n",
    "    sessions = metricsdf[(metricsdf.account_id == account_id) & (pd.to_datetime(metricsdf.timestamp).dt.normalize() == timestamp)].session_id.unique()\n",
    "    \n",
    "    # If we found sessions, extend the sessions and labels lists with the results\n",
    "    if len(sessions) != 0:\n",
    "        # Append the corresponding sessions to the list\n",
    "        session_ids.extend(sessions)\n",
    "        # Perform the same to get corresponding labels\n",
    "        labels.extend([label] * len(sessions))"
   ]
  },
  {
   "cell_type": "code",
   "execution_count": null,
   "metadata": {},
   "outputs": [],
   "source": [
    "# Initialize a new results dataframe \n",
    "labeleddf = pd.DataFrame(columns=['timestamp','account_id','session_id','metric','frustrated'])\n",
    "\n",
    "for index in range(len(session_ids)):\n",
    "    labeleddf = pd.concat([labeleddf,metricsdf[metricsdf.session_id == session_ids[index]]], axis=0, ignore_index=True)\n",
    "    labeleddf.loc[labeleddf.session_id == session_ids[index], 'frustrated'] = labels[index]"
   ]
  },
  {
   "cell_type": "code",
   "execution_count": null,
   "metadata": {},
   "outputs": [],
   "source": [
    "# Write the results back to S3\n",
    "\n",
    "local_csv = '/tmp/results.csv'\n",
    "with open(local_csv, \"wb\") as f:\n",
    "    f.write(labeleddf.to_csv(None, index=False).encode())"
   ]
  }
 ],
 "metadata": {
  "kernelspec": {
   "display_name": "conda_python3",
   "language": "python",
   "name": "conda_python3"
  },
  "language_info": {
   "codemirror_mode": {
    "name": "ipython",
    "version": 3
   },
   "file_extension": ".py",
   "mimetype": "text/x-python",
   "name": "python",
   "nbconvert_exporter": "python",
   "pygments_lexer": "ipython3",
   "version": "3.6.5"
  }
 },
 "nbformat": 4,
 "nbformat_minor": 2
}
