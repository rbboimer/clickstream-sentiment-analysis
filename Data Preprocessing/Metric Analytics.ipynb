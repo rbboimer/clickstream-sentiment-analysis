{
 "cells": [
  {
   "cell_type": "markdown",
   "metadata": {},
   "source": [
    "# CS221 Final Project\n",
    "\n",
    "# - Sentiment Analysis using Click Stream Data -"
   ]
  },
  {
   "cell_type": "markdown",
   "metadata": {},
   "source": [
    "## DATA PROCESSING: Step 1 - Load Data"
   ]
  },
  {
   "cell_type": "code",
   "execution_count": 1,
   "metadata": {},
   "outputs": [
    {
     "name": "stdout",
     "output_type": "stream",
     "text": [
      "file exists locally, loading ...\n",
      "Loading Labelled Data Complete\n",
      "file exists locally, loading ...\n",
      "Loading UnLabelled Data Complete\n"
     ]
    }
   ],
   "source": [
    "import pandas as pd\n",
    "import os\n",
    "import numpy as np\n",
    "import boto3\n",
    "\n",
    "fnameLabelled   = 'LabelledData.csv'\n",
    "fnameUnLabelled = 'UnLabelledData.csv'\n",
    "\n",
    "#read pre processed date file, read from S3 bucket otherwise\n",
    "if os.path.isfile(fnameLabelled):\n",
    "    print(\"file exists locally, loading ...\")\n",
    "    df_Labelled = pd.read_csv(fnameLabelled)\n",
    "else:\n",
    "    #read the labelled data from an AWS S3 Bucket\n",
    "    print(\"file doesn't exists locally, loading from S3\")\n",
    "    s3client = boto3.client('s3')\n",
    "    response = s3client.get_object(Bucket = 'click-metric-analytics', Key = 'stanford-labeled.csv')\n",
    "    df_Labelled = pd.read_csv(response['Body'])\n",
    "    #save locally\n",
    "    df_Labelled.to_csv(fnameLabelled)\n",
    "print(\"Loading Labelled Data Complete\")\n",
    "\n",
    "    \n",
    "if os.path.isfile(fnameUnLabelled):\n",
    "    print(\"file exists locally, loading ...\")\n",
    "    df_UnLabelled = pd.read_csv(fnameUnLabelled)\n",
    "else:\n",
    "    #Read the unlabelled data from an AWS S3 Bucket \n",
    "    print(\"file doesn't exists locally, loading from S3\")\n",
    "    s3client = boto3.client('s3')\n",
    "    response = s3client.get_object(Bucket = 'click-metric-analytics', Key = 'results-query-stanford-rds.csv')\n",
    "    df_UnLabelled = pd.read_csv(response['Body'])\n",
    "    #save locally\n",
    "    df_UnLabelled.to_csv(fnameUnLabelled)\n",
    "print(\"Loading UnLabelled Data Complete\")"
   ]
  },
  {
   "cell_type": "markdown",
   "metadata": {},
   "source": [
    "## DATA PROCESSING: Step 2\n",
    "### 2.1 Drop Corrupted Data"
   ]
  },
  {
   "cell_type": "code",
   "execution_count": 2,
   "metadata": {},
   "outputs": [
    {
     "name": "stdout",
     "output_type": "stream",
     "text": [
      "labelled Data Shape: Original Loaded Data (35648, 6)\n",
      "labelled Data Shape after dropping non relavent activities (25589, 6)\n",
      "labelled Data Shape after dropping -1 (25589, 6)\n",
      "labelled Data Shape after dropping NaN (25589, 6)\n",
      "labelled Data Shape after dropping session_id equal to 1 (25589, 6)\n",
      " \n",
      "#####################################\n",
      " \n",
      "Unlabelled Data Shape: Original Loaded Data (8995093, 5)\n",
      "Unlabelled Data Shape after dropping non relavent activities (5618156, 5)\n",
      "Unlabelled Data Shape after dropping -1 (5617972, 5)\n",
      "Unlabelled Data Shape after dropping NaN (5616783, 5)\n",
      "Unlabelled Data Shape after dropping session_id equal to 1 (5616783, 5)\n"
     ]
    }
   ],
   "source": [
    "def dropCorruptedData(label, df):\n",
    "    print(label + \" Data Shape: Original Loaded Data\", df.shape)\n",
    "    #drop dataframes that start with 'clickToCustomerReady' as it only indicates a login\n",
    "    #to the webpage before any activity is initiated\n",
    "    list_to_drop = df.index[df['metric'] == 'clickToCustomerReady'].tolist()\n",
    "    df = df.drop(df.index[list_to_drop])\n",
    "    df = df.reset_index(drop=True)\n",
    "    print(label + \" Data Shape after dropping non relavent activities\", df.shape)\n",
    "\n",
    "\n",
    "    #drop dataframes with account_id == -1 (indicating an error in the captured result)\n",
    "    list_to_drop = df.index[df['account_id'] == -1].tolist()\n",
    "    df = df.drop(df.index[list_to_drop])\n",
    "    df = df.reset_index(drop=True)\n",
    "    print(label +  \" Data Shape after dropping -1\", df.shape)\n",
    "\n",
    "\n",
    "    #drop dataframes with nan (indicating an error in the captured result)\n",
    "    df = df.dropna()\n",
    "    df = df.reset_index(drop=True)\n",
    "    print(label +  \" Data Shape after dropping NaN\",df.shape)\n",
    "\n",
    "\n",
    "    #drop dataframes with session_id == 1 (indicating an error in the captured result)\n",
    "    list_to_drop = df.index[df['session_id'] == 1].tolist()\n",
    "    df = df.drop(df.index[list_to_drop])\n",
    "    df = df.reset_index(drop=True)\n",
    "    print(label + \" Data Shape after dropping session_id equal to 1\", df.shape)\n",
    "    return df\n",
    "\n",
    "\n",
    "df_Labelled     = dropCorruptedData('labelled', df_Labelled)\n",
    "print(\" \")\n",
    "print(\"#####################################\")\n",
    "print(\" \")\n",
    "df_UnLabelled  = dropCorruptedData('Unlabelled', df_UnLabelled)"
   ]
  },
  {
   "cell_type": "markdown",
   "metadata": {},
   "source": [
    "### 2.2 Drop Script Generated Clicks"
   ]
  },
  {
   "cell_type": "code",
   "execution_count": 3,
   "metadata": {},
   "outputs": [],
   "source": [
    "#Drop Not needed Col representing index\n",
    "df_Labelled = df_Labelled.drop('Unnamed: 0', 1)\n",
    "df_UnLabelled = df_UnLabelled.drop('Unnamed: 0', 1)"
   ]
  },
  {
   "cell_type": "code",
   "execution_count": 4,
   "metadata": {},
   "outputs": [
    {
     "name": "stdout",
     "output_type": "stream",
     "text": [
      "Shape before dropping scripted clicks: (5616783, 4)\n",
      "Shape after dropping scripted clicks: (5307053, 4)\n",
      " \n",
      "#####################################\n",
      " \n",
      "Shape before dropping scripted clicks: (25589, 5)\n",
      "Shape after dropping scripted clicks: (19413, 5)\n"
     ]
    }
   ],
   "source": [
    "# remove sessions with more clicks than max_session_activity\n",
    "max_session_activity = 50\n",
    "print(\"Shape before dropping scripted clicks:\", df_UnLabelled.shape)\n",
    "session_counts = pd.value_counts(df_UnLabelled['session_id'].values, sort=True)\n",
    "sessions_to_remove = session_counts[session_counts >= max_session_activity]\n",
    "df_UnLabelled = df_UnLabelled[~df_UnLabelled.session_id.isin(sessions_to_remove.index.tolist())]\n",
    "print(\"Shape after dropping scripted clicks:\", df_UnLabelled.shape)\n",
    "print(\" \")\n",
    "print(\"#####################################\")\n",
    "print(\" \")\n",
    "print(\"Shape before dropping scripted clicks:\", df_Labelled.shape)\n",
    "session_counts = pd.value_counts(df_Labelled['session_id'].values, sort=True)\n",
    "sessions_to_remove = session_counts[session_counts >= max_session_activity]\n",
    "df_Labelled = df_Labelled[~df_Labelled.session_id.isin(sessions_to_remove.index.tolist())]\n",
    "print(\"Shape after dropping scripted clicks:\", df_Labelled.shape)"
   ]
  },
  {
   "cell_type": "markdown",
   "metadata": {},
   "source": [
    "## DATA PROCESSING: Step 3- Data Cleaning\n",
    "### 3.1 Reduce name complexity"
   ]
  },
  {
   "cell_type": "code",
   "execution_count": 5,
   "metadata": {},
   "outputs": [
    {
     "name": "stdout",
     "output_type": "stream",
     "text": [
      "Data Shape of Unlabelled Data (5307053, 4)\n",
      "Data Shape of labelled Data (19413, 5)\n"
     ]
    }
   ],
   "source": [
    "#Get rid of the 'click' at the beginning of the metric\n",
    "df_Labelled['metric'] = [str(x)[6:] for x in df_Labelled['metric']]\n",
    "df_UnLabelled['metric'] = [str(x)[6:] for x in df_UnLabelled['metric']]\n",
    "\n",
    "\n",
    "#reduce the length of session_id to improve debugging visibity\n",
    "df_UnLabelled_temp = df_UnLabelled\n",
    "df_Labelled_temp   = df_Labelled\n",
    "\n",
    "df_UnLabelled_temp['session_id'] = [str(x)[6:11] for x in df_UnLabelled_temp['session_id']]\n",
    "df_Labelled_temp['session_id']   = [str(x)[6:11] for x in df_Labelled_temp['session_id']]\n",
    "#Confirm that renaming session_id did not cause any name overlaps\n",
    "assert(len(df_Labelled_temp['session_id'].unique()) == len(df_Labelled['session_id'].unique()))\n",
    "assert(len(df_UnLabelled_temp['session_id'].unique()) == len(df_UnLabelled['session_id'].unique()))\n",
    "\n",
    "df_Labelled = df_Labelled_temp\n",
    "df_UnLabelled = df_UnLabelled_temp\n",
    "print(\"Data Shape of Unlabelled Data\", df_UnLabelled.shape)\n",
    "print(\"Data Shape of labelled Data\", df_Labelled.shape)"
   ]
  },
  {
   "cell_type": "markdown",
   "metadata": {},
   "source": [
    "### 3.2 drop dataframes with only one metric per session ID activity  \n"
   ]
  },
  {
   "cell_type": "code",
   "execution_count": 6,
   "metadata": {},
   "outputs": [
    {
     "name": "stdout",
     "output_type": "stream",
     "text": [
      "Shape before dropping scripted clicks: (5307053, 4)\n",
      "Shape after dropping scripted clicks: (5163748, 4)\n",
      " \n",
      "#####################################\n",
      " \n",
      "Shape before dropping scripted clicks: (19413, 5)\n",
      "Shape after dropping scripted clicks: (19040, 5)\n"
     ]
    }
   ],
   "source": [
    "# remove sessions with only click activity\n",
    "max_session_activity = 1\n",
    "print(\"Shape before dropping scripted clicks:\", df_UnLabelled.shape)\n",
    "session_counts = pd.value_counts(df_UnLabelled['session_id'].values, sort=True)\n",
    "sessions_to_remove = session_counts[session_counts == max_session_activity]\n",
    "df_UnLabelled = df_UnLabelled[~df_UnLabelled.session_id.isin(sessions_to_remove.index.tolist())]\n",
    "print(\"Shape after dropping scripted clicks:\", df_UnLabelled.shape)\n",
    "print(\" \")\n",
    "print(\"#####################################\")\n",
    "print(\" \")\n",
    "print(\"Shape before dropping scripted clicks:\", df_Labelled.shape)\n",
    "session_counts = pd.value_counts(df_Labelled['session_id'].values, sort=True)\n",
    "sessions_to_remove = session_counts[session_counts == max_session_activity]\n",
    "df_Labelled = df_Labelled[~df_Labelled.session_id.isin(sessions_to_remove.index.tolist())]\n",
    "print(\"Shape after dropping scripted clicks:\", df_Labelled.shape)"
   ]
  },
  {
   "cell_type": "markdown",
   "metadata": {},
   "source": [
    "## DATA PROCESSING: Step 4\n",
    "### Generate Batches of Unlabelled Data for the Self-Learning Semi Supervised Function"
   ]
  },
  {
   "cell_type": "code",
   "execution_count": 8,
   "metadata": {},
   "outputs": [],
   "source": [
    "df_UnLabelled =  df_UnLabelled.sort_values(by=['session_id'])\n",
    "session_id_list = df_UnLabelled['session_id'].unique()\n",
    "listToPickFrom = np.random.permutation(len(session_id_list))"
   ]
  },
  {
   "cell_type": "code",
   "execution_count": 9,
   "metadata": {},
   "outputs": [],
   "source": [
    "dataFrameList = []\n",
    "number_of_batches = 100\n",
    "batch_size = 250\n",
    "\n",
    "for batch_index in range(0, number_of_batches):\n",
    "    listID = session_id_list[listToPickFrom[batch_index*batch_size: batch_size*(batch_index+1)]]\n",
    "    dataFrameList.append(df_UnLabelled.loc[df_UnLabelled['session_id'].isin(listID)])"
   ]
  },
  {
   "cell_type": "markdown",
   "metadata": {},
   "source": [
    "## DATA PROCESSING: Step 5\n",
    "### Save results in a csv file"
   ]
  },
  {
   "cell_type": "code",
   "execution_count": 10,
   "metadata": {},
   "outputs": [],
   "source": [
    "#save filteres labelled data into a csv file\n",
    "fnameLabelledProcessed = 'fnameLabelledProcessed.csv'\n",
    "df_Labelled.to_csv(fnameLabelledProcessed)\n",
    "\n",
    "writer = pd.ExcelWriter('UnlabelledBatch.xlsx', engine='xlsxwriter')\n",
    "for batch_index in range(len(dataFrameList)):\n",
    "    fnameLabelledProcessed = 'fnameUnLabelledBatches-{}.csv'.format(batch_index)\n",
    "    dataFrameList[batch_index].to_excel(writer, sheet_name=fnameLabelledProcessed)   \n",
    "    \n",
    "writer.save()"
   ]
  },
  {
   "cell_type": "code",
   "execution_count": 11,
   "metadata": {},
   "outputs": [
    {
     "name": "stdout",
     "output_type": "stream",
     "text": [
      "1588 1169\n"
     ]
    }
   ],
   "source": [
    "x = 0\n",
    "y = 99999999\n",
    "for i in range(0, 100):\n",
    "    x= max(x, len(dataFrameList[i]))\n",
    "    y= min(y, len(dataFrameList[i]))\n",
    "    \n",
    "print(x,y)"
   ]
  }
 ],
 "metadata": {
  "kernelspec": {
   "display_name": "Python 3",
   "language": "python",
   "name": "python3"
  },
  "language_info": {
   "codemirror_mode": {
    "name": "ipython",
    "version": 3
   },
   "file_extension": ".py",
   "mimetype": "text/x-python",
   "name": "python",
   "nbconvert_exporter": "python",
   "pygments_lexer": "ipython3",
   "version": "3.6.4"
  }
 },
 "nbformat": 4,
 "nbformat_minor": 2
}
