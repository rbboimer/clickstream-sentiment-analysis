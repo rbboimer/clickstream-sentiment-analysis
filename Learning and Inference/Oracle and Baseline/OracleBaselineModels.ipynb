{
 "cells": [
  {
   "cell_type": "markdown",
   "metadata": {},
   "source": [
    "# Baseline and Oracle Models"
   ]
  },
  {
   "cell_type": "code",
   "execution_count": null,
   "metadata": {},
   "outputs": [],
   "source": [
    "# Import cell, add all imports here\n",
    "\n",
    "import pandas as pd\n",
    "import numpy as np\n",
    "import boto3"
   ]
  },
  {
   "cell_type": "code",
   "execution_count": null,
   "metadata": {},
   "outputs": [],
   "source": [
    "# Import data from S3\n",
    "s3client = boto3.client('s3')\n",
    "response = s3client.get_object(Bucket = 'click-metric-analytics', Key = 'unlabeled.csv')\n",
    "metricdf = pd.read_csv(response['Body'])"
   ]
  },
  {
   "cell_type": "markdown",
   "metadata": {},
   "source": [
    "## Baseline\n",
    "\n",
    "For the baseline model we implement a simple rule-based approach. Users that meet one or more of the defined rules are classified as frustrated \n",
    "\n",
    "1. User performs a 'cancel' action more than once in a given session.\n",
    "2. User attempts to perform the same action multiple times consecutively. "
   ]
  },
  {
   "cell_type": "code",
   "execution_count": null,
   "metadata": {},
   "outputs": [],
   "source": [
    "# Baseline\n",
    "\n",
    "# Start by assuming no users are frustrated\n",
    "metricdf['frustrated'] = 0\n",
    "\n",
    "frustratedUsers = ['account_1', 'account_2 >'] # removed to maintain anonymity\n",
    "contentUsers = ['account_1', 'account_2 >'] # removed to maintain anonymity\n",
    "\n",
    "baselinedf = metricdf[metricdf.account_id.isin(frustratedUsers) | metricdf.account_id.isin(contentUsers)]\n",
    "uniqueSessions = baselinedf.session_id.unique()\n",
    "\n",
    "for session in uniqueSessions:\n",
    "    sessiondf = baselinedf[baselinedf.session_id == session]\n",
    "    \n",
    "    # Rule 1: perform a cancel action more than once in a given session\n",
    "    cancelCount = sessiondf.metric.str.contains(r'cancel', flags=re.IGNORECASE).sum()\n",
    "    if cancelCount >= 2:\n",
    "        baselinedf.loc[baselinedf.session_id == session, 'frustrated'] = True\n",
    "    else:\n",
    "        # Rule 2: attempt to perform the same action multiple times consecutively\n",
    "        metrics = baselinedf['metric'].tolist()\n",
    "        baselinedf.loc[baselinedf.session_id == session, 'frustrated'] = any(metrics[i] == metrics[i+1] for i in range(len(metrics)-1))"
   ]
  },
  {
   "cell_type": "markdown",
   "metadata": {},
   "source": [
    "## Oracle\n",
    "\n",
    "To define the oracle, we make use of information that is not generally available. We have access to customer feedback for a small subset of customers. We can correlate customers that provided positive or negative sentiment feedback with their respective clickstreams, and label these sessions according to the feedback"
   ]
  },
  {
   "cell_type": "code",
   "execution_count": null,
   "metadata": {},
   "outputs": [],
   "source": [
    "# Oracle\n",
    "\n",
    "# Start by assuming no users are frustrated\n",
    "metricdf['frustrated'] = 0\n",
    "\n",
    "frustratedUsers = ['account_1', 'account_2 >'] # removed to maintain anonymity\n",
    "contentUsers = ['account_1', 'account_2 >'] # removed to maintain anonymity\n",
    "\n",
    "oracledf = metricdf[metricdf.account_id.isin(frustratedUsers) | metricdf.account_id.isin(contentUsers)]\n",
    "oracledf['frustrated'] = oracledf.account_id.isin(frustratedUsers)"
   ]
  }
 ],
 "metadata": {
  "kernelspec": {
   "display_name": "conda_python3",
   "language": "python",
   "name": "conda_python3"
  },
  "language_info": {
   "codemirror_mode": {
    "name": "ipython",
    "version": 3
   },
   "file_extension": ".py",
   "mimetype": "text/x-python",
   "name": "python",
   "nbconvert_exporter": "python",
   "pygments_lexer": "ipython3",
   "version": "3.6.5"
  }
 },
 "nbformat": 4,
 "nbformat_minor": 2
}
